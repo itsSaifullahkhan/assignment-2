{
 "cells": [
  {
   "cell_type": "markdown",
   "id": "928d7807-761b-47a5-a72f-5b2374bf1078",
   "metadata": {},
   "source": [
    "# Assignment"
   ]
  },
  {
   "cell_type": "markdown",
   "id": "b8523c76-e08d-47af-ab92-8a2a75591fb7",
   "metadata": {},
   "source": [
    "### secanrio 1:"
   ]
  },
  {
   "cell_type": "code",
   "execution_count": 1,
   "id": "aba8b044-3be8-4813-9ce8-d1993d6cf3dd",
   "metadata": {},
   "outputs": [
    {
     "name": "stdout",
     "output_type": "stream",
     "text": [
      "\n",
      "Menu:\n",
      "1. Display Grocery List\n",
      "2. Add Item\n",
      "3. Remove Item\n",
      "4. Exit\n"
     ]
    },
    {
     "name": "stdin",
     "output_type": "stream",
     "text": [
      "Enter your choice (1-4):  1\n"
     ]
    },
    {
     "name": "stdout",
     "output_type": "stream",
     "text": [
      "rice,milk,egg,bread:\n",
      "\n",
      "Menu:\n",
      "1. Display Grocery List\n",
      "2. Add Item\n",
      "3. Remove Item\n",
      "4. Exit\n"
     ]
    },
    {
     "name": "stdin",
     "output_type": "stream",
     "text": [
      "Enter your choice (1-4):  2\n",
      "Enter the item to add:  fruits\n",
      "Enter the quantity:  10\n"
     ]
    },
    {
     "name": "stdout",
     "output_type": "stream",
     "text": [
      "\n",
      "Menu:\n",
      "1. Display Grocery List\n",
      "2. Add Item\n",
      "3. Remove Item\n",
      "4. Exit\n"
     ]
    },
    {
     "name": "stdin",
     "output_type": "stream",
     "text": [
      "Enter your choice (1-4):  4\n"
     ]
    },
    {
     "name": "stdout",
     "output_type": "stream",
     "text": [
      "Exiting the program. Thank you!\n"
     ]
    }
   ],
   "source": [
    "grocery_list = []\n",
    "\n",
    "while True:\n",
    "    print(\"\\nMenu:\")\n",
    "    print(\"1. Display Grocery List\")\n",
    "    print(\"2. Add Item\")\n",
    "    print(\"3. Remove Item\")\n",
    "    print(\"4. Exit\")\n",
    "\n",
    "    choice = input(\"Enter your choice (1-4): \")\n",
    "\n",
    "    if choice == '1':\n",
    "        print(\"rice,milk,egg,bread:\")\n",
    "        for item, quantity in grocery_list:\n",
    "            print(f\"{item}: {quantity}\")\n",
    "    elif choice == '2':\n",
    "        item = input(\"Enter the item to add: \")\n",
    "        quantity = int(input(\"Enter the quantity: \"))\n",
    "        for i, (existing_item, existing_quantity) in enumerate(grocery_list):\n",
    "            if existing_item == item:\n",
    "                grocery_list[i] = (existing_item, existing_quantity + quantity)\n",
    "                break\n",
    "        else:\n",
    "            grocery_list.append((item, quantity))\n",
    "    elif choice == '3':\n",
    "        item = input(\"Enter the item to remove: \")\n",
    "        for i, (existing_item, existing_quantity) in enumerate(grocery_list):\n",
    "            if existing_item == item:\n",
    "                quantity_to_remove = int(input(\"Enter the quantity to remove: \"))\n",
    "                if quantity_to_remove >= existing_quantity:\n",
    "                    grocery_list.pop(i)\n",
    "                else:\n",
    "                    grocery_list[i] = (existing_item, existing_quantity - quantity_to_remove)\n",
    "                break\n",
    "        else:\n",
    "            print(f\"{item} is not in the list.\")\n",
    "    elif choice == '4':\n",
    "        print(\"Exiting the program. Thank you!\")\n",
    "        break\n",
    "    else:\n",
    "        print(\"Invalid choice. Please enter a number between 1 and 4.\")\n"
   ]
  },
  {
   "cell_type": "markdown",
   "id": "98ed570c-dca1-4831-8f7d-54970a827433",
   "metadata": {},
   "source": [
    "### scnario 2:"
   ]
  },
  {
   "cell_type": "code",
   "execution_count": 23,
   "id": "3184621a-1a3c-4a58-a165-a9ced69ea836",
   "metadata": {},
   "outputs": [
    {
     "name": "stdin",
     "output_type": "stream",
     "text": [
      "Enter the number of students (at least 5):  5\n",
      "Enter student name:  ali\n",
      "Enter ali's grade:  5\n",
      "Enter student name:  taha\n",
      "Enter taha's grade:  3\n",
      "Enter student name:  saif\n",
      "Enter saif's grade:  3\n",
      "Enter student name:  soban\n",
      "Enter soban's grade:  7\n",
      "Enter student name:  sufyan\n",
      "Enter sufyan's grade:  8\n"
     ]
    },
    {
     "name": "stdout",
     "output_type": "stream",
     "text": [
      "ali's average grade: 5.00\n",
      "taha's average grade: 3.00\n",
      "saif's average grade: 3.00\n",
      "soban's average grade: 7.00\n",
      "sufyan's average grade: 8.00\n",
      "\n",
      "Overall class average: 5.20\n"
     ]
    }
   ],
   "source": [
    "student_grades = {}\n",
    "num_students = int(input(\"Enter the number of students (at least 5): \"))\n",
    "while num_students < 5:\n",
    "    print(\"Please enter at least 5 students.\")\n",
    "    num_students = int(input(\"Enter the number of students (at least 5): \"))\n",
    "\n",
    "for _ in range(num_students):\n",
    "    student_name = input(\"Enter student name: \")\n",
    "    grade = float(input(f\"Enter {student_name}'s grade: \"))\n",
    "    if student_name in student_grades:\n",
    "        student_grades[student_name].append(grade)\n",
    "    else:\n",
    "        student_grades[student_name] = [grade]\n",
    "total_average = 0\n",
    "for student, grades in student_grades.items():\n",
    "    average_grade = sum(grades) / len(grades)\n",
    "    total_average += average_grade\n",
    "    print(f\"{student}'s average grade: {average_grade:.2f}\")\n",
    "class_average = total_average / len(student_grades)\n",
    "print(f\"\\nOverall class average: {class_average:.2f}\")\n",
    "\n"
   ]
  },
  {
   "cell_type": "markdown",
   "id": "ad165acb-3059-47f6-9e6f-181d5e7dbce3",
   "metadata": {},
   "source": [
    "### scenario 3:"
   ]
  },
  {
   "cell_type": "code",
   "execution_count": 1,
   "id": "5ce53a35-4ddb-4282-b3f5-9972151e6448",
   "metadata": {},
   "outputs": [
    {
     "name": "stdout",
     "output_type": "stream",
     "text": [
      "word frequency\n",
      "apple : 3\n",
      "banana : 2\n",
      "orange : 1\n",
      "grape : 1\n"
     ]
    }
   ],
   "source": [
    "word_list = [\"apple\", \"banana\", \"apple\", \"orange\", \"banana\", \"grape\", \"apple\"]\n",
    "word_count = {}\n",
    "for word in word_list:\n",
    "    if word in word_count:\n",
    "        word_count[word] += 1\n",
    "    else:\n",
    "         word_count[word] = 1\n",
    "print (\"word frequency\")\n",
    "for word, count in word_count.items():\n",
    "    print(f\"{word} : {count}\")"
   ]
  },
  {
   "cell_type": "markdown",
   "id": "97d07644-b3f2-4ed6-948d-78710abe3932",
   "metadata": {},
   "source": [
    "### scenario 4:"
   ]
  },
  {
   "cell_type": "code",
   "execution_count": 4,
   "id": "b4012dbf-f986-4d92-88dd-ae2bff60492c",
   "metadata": {},
   "outputs": [
    {
     "name": "stdin",
     "output_type": "stream",
     "text": [
      "Enter your password:  Saifullah1\n"
     ]
    },
    {
     "name": "stdout",
     "output_type": "stream",
     "text": [
      "Password is strong.\n"
     ]
    }
   ],
   "source": [
    "criteria = {\n",
    "    \"length\": False,\n",
    "    \"digit\": False,\n",
    "    \"letter\": False\n",
    "}\n",
    "user_password = input(\"Enter your password: \")\n",
    "if len(user_password) >= 8:\n",
    "    criteria[\"length\"] = True\n",
    "for char in user_password:\n",
    "    if char.isdigit():\n",
    "        criteria[\"digit\"] = True\n",
    "        break\n",
    "for char in user_password:\n",
    "    if char.isalpha():\n",
    "        criteria[\"letter\"] = True\n",
    "        break\n",
    "if all(criteria.values()):\n",
    "    print(\"Password is strong.\")\n",
    "else:\n",
    "    print(\"Password is weak. Please make sure it meets the criteria.\")"
   ]
  },
  {
   "cell_type": "markdown",
   "id": "5aa3defe-388f-4945-bc5a-6f49073e32e8",
   "metadata": {},
   "source": [
    "### scenario 5"
   ]
  },
  {
   "cell_type": "code",
   "execution_count": null,
   "id": "29362740-6d22-432e-ac8c-a0dae91e9e3c",
   "metadata": {},
   "outputs": [
    {
     "name": "stdin",
     "output_type": "stream",
     "text": [
      "Enter the number of voters:  60\n"
     ]
    },
    {
     "name": "stdout",
     "output_type": "stream",
     "text": [
      "\n",
      "Voter 1\n",
      "\n",
      "Employee of the Year Nominees:\n",
      "1. Candidate A\n",
      "2. Candidate B\n",
      "3. Candidate C\n"
     ]
    },
    {
     "name": "stdin",
     "output_type": "stream",
     "text": [
      "Vote for Employee of the Year (1-3):  A\n"
     ]
    },
    {
     "name": "stdout",
     "output_type": "stream",
     "text": [
      "Invalid input. Please enter a number.\n"
     ]
    },
    {
     "name": "stdin",
     "output_type": "stream",
     "text": [
      "Vote for Employee of the Year (1-3):  3\n"
     ]
    },
    {
     "name": "stdout",
     "output_type": "stream",
     "text": [
      "Vote recorded for Candidate C in Employee of the Year.\n",
      "\n",
      "Team Player of the Year Nominees:\n",
      "1. Candidate A\n",
      "2. Candidate B\n",
      "3. Candidate C\n"
     ]
    },
    {
     "name": "stdin",
     "output_type": "stream",
     "text": [
      "Vote for Team Player of the Year (1-3):  s\n"
     ]
    },
    {
     "name": "stdout",
     "output_type": "stream",
     "text": [
      "Invalid input. Please enter a number.\n"
     ]
    },
    {
     "name": "stdin",
     "output_type": "stream",
     "text": [
      "Vote for Team Player of the Year (1-3):  l\n"
     ]
    },
    {
     "name": "stdout",
     "output_type": "stream",
     "text": [
      "Invalid input. Please enter a number.\n"
     ]
    },
    {
     "name": "stdin",
     "output_type": "stream",
     "text": [
      "Vote for Team Player of the Year (1-3):  l\n"
     ]
    },
    {
     "name": "stdout",
     "output_type": "stream",
     "text": [
      "Invalid input. Please enter a number.\n"
     ]
    },
    {
     "name": "stdin",
     "output_type": "stream",
     "text": [
      "Vote for Team Player of the Year (1-3):  l\n"
     ]
    },
    {
     "name": "stdout",
     "output_type": "stream",
     "text": [
      "Invalid input. Please enter a number.\n"
     ]
    },
    {
     "name": "stdin",
     "output_type": "stream",
     "text": [
      "Vote for Team Player of the Year (1-3):  ol\n"
     ]
    },
    {
     "name": "stdout",
     "output_type": "stream",
     "text": [
      "Invalid input. Please enter a number.\n"
     ]
    }
   ],
   "source": [
    "candidates = {\n",
    "    \"Employee of the Year\": ['Candidate A', 'Candidate B', 'Candidate C'],\n",
    "    \"Team Player of the Year\": ['Candidate A', 'Candidate B', 'Candidate C'],\n",
    "    \"Innovation Award\": ['Candidate A', 'Candidate B', 'Candidate C']\n",
    "}\n",
    "\n",
    "votes = {category: {candidate: 0 for candidate in candidates[category]} for category in candidates}\n",
    "num_voters = int(input(\"Enter the number of voters: \"))\n",
    "for _ in range(num_voters):\n",
    "    print(\"\\nVoter\", _ + 1)\n",
    "    for category, nominee_list in candidates.items():\n",
    "        print(f\"\\n{category} Nominees:\")\n",
    "        for i, nominee in enumerate(nominee_list, start=1):\n",
    "            print(f\"{i}. {nominee}\")\n",
    "        while True:\n",
    "            try:\n",
    "                vote = int(input(f\"Vote for {category} (1-{len(nominee_list)}): \"))\n",
    "                if 1 <= vote <= len(nominee_list):\n",
    "                    votes[category][nominee_list[vote - 1]] += 1\n",
    "                    print(f\"Vote recorded for {nominee_list[vote - 1]} in {category}.\")\n",
    "                    break\n",
    "                else:\n",
    "                    print(\"Invalid vote. Please choose a valid candidate.\")\n",
    "            except ValueError:\n",
    "                print(\"Invalid input. Please enter a number.\")\n",
    "print(\"\\nVoting Results:\")\n",
    "for category, result in votes.items():\n",
    "    print(f\"\\n{category} Results:\")\n",
    "    for candidate, count in result.items():\n",
    "        print(f\"{candidate}: {count} votes\")\n",
    "winners = {category: max(result, key=result.get) for category, result in votes.items()}\n",
    "print(\"\\nAward Winners:\")\n",
    "for category, winner in winners.items():\n",
    "    print(f\"{category}: {winner}\")"
   ]
  },
  {
   "cell_type": "code",
   "execution_count": null,
   "id": "33331ec1-eeb3-4ea0-a9ce-b8d4d1b474ef",
   "metadata": {},
   "outputs": [],
   "source": []
  }
 ],
 "metadata": {
  "kernelspec": {
   "display_name": "Python 3 (ipykernel)",
   "language": "python",
   "name": "python3"
  },
  "language_info": {
   "codemirror_mode": {
    "name": "ipython",
    "version": 3
   },
   "file_extension": ".py",
   "mimetype": "text/x-python",
   "name": "python",
   "nbconvert_exporter": "python",
   "pygments_lexer": "ipython3",
   "version": "3.12.1"
  }
 },
 "nbformat": 4,
 "nbformat_minor": 5
}
